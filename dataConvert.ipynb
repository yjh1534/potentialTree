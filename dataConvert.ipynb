{
 "cells": [
  {
   "cell_type": "code",
   "execution_count": 84,
   "metadata": {},
   "outputs": [],
   "source": [
    "import pickle\n",
    "import json\n",
    "\n",
    "with open(f\"rawData/rawdata90\", 'rb') as f:\n",
    "    data = pickle.load(f)\n",
    "\n",
    "with open(f\"rawData/uniqueBS90\", 'rb') as f:\n",
    "    unique_bs = pickle.load(f)"
   ]
  },
  {
   "cell_type": "code",
   "execution_count": null,
   "metadata": {},
   "outputs": [],
   "source": []
  },
  {
   "cell_type": "code",
   "execution_count": 85,
   "metadata": {},
   "outputs": [],
   "source": [
    "class pc_potential:\n",
    "    def __init__(self, line, id, parent_id, const_line, both_line, largeV_line, minset):\n",
    "        self.id = id\n",
    "        self.constraint = line\n",
    "        self.constc = const_line\n",
    "        self.bothc = both_line\n",
    "        self.largec = largeV_line\n",
    "        self.potential = set()\n",
    "        self.parent_id = parent_id\n",
    "        self.child_list = []\n",
    "        self.minset = minset\n",
    "\n",
    "class PathConditionTree:\n",
    "    def __init__(self, unique_branchset):\n",
    "        self.state_conditions = []\n",
    "        self.state_tree = {-1:pc_potential(None, -1, None, None, None, None, False)}\n",
    "        self.unique_branchset = unique_branchset\n",
    "\n",
    "    def add_newdata(self, pc, bsidx, const_line, both_line, largeV_line, minset):\n",
    "        parent_id = -1\n",
    "        for i, c in enumerate(pc):\n",
    "            sc = pc[:i+1]\n",
    "            try:\n",
    "                scidx = self.state_conditions.index(sc)\n",
    "                if self.state_tree[scidx].minset != minset[0]:\n",
    "                    self.state_tree[scidx].minset = minset[0]\n",
    "            except:\n",
    "                scidx = len(self.state_conditions)\n",
    "                self.state_conditions.append(sc)\n",
    "                self.state_tree[scidx] = pc_potential(c, scidx, parent_id, const_line[i], both_line[i], largeV_line[i], minset[0])\n",
    "                self.state_tree[parent_id].child_list.append(scidx)\n",
    "            self.state_tree[scidx].potential |= self.unique_branchset[bsidx]\n",
    "            parent_id = scidx\n",
    "            "
   ]
  },
  {
   "cell_type": "code",
   "execution_count": 86,
   "metadata": {},
   "outputs": [],
   "source": [
    "tree_data = PathConditionTree(unique_bs)\n",
    "for ktest in data:\n",
    "    bsidx, pc, constpc, bothpc, lvpc, minset = data[ktest].items()\n",
    "    tree_data.add_newdata(pc[1], bsidx[1], constpc[1], bothpc[1], lvpc[1], minset[1])"
   ]
  },
  {
   "cell_type": "code",
   "execution_count": 87,
   "metadata": {},
   "outputs": [
    {
     "data": {
      "text/plain": [
       "[True]"
      ]
     },
     "execution_count": 87,
     "metadata": {},
     "output_type": "execute_result"
    }
   ],
   "source": [
    "data[ktest][\"minset\"]"
   ]
  },
  {
   "cell_type": "code",
   "execution_count": 88,
   "metadata": {},
   "outputs": [],
   "source": [
    "node_data = {}\n",
    "minset_count = 0\n",
    "minset_leaf = 0\n",
    "unique_minset_pc = set()\n",
    "for node_id, node_info in tree_data.state_tree.items():\n",
    "    node_data[node_id] = {}\n",
    "    node_data[node_id][\"constraint\"] = node_info.constraint\n",
    "    node_data[node_id][\"const_constraint\"] = node_info.constc\n",
    "    node_data[node_id][\"both_constraint\"] = node_info.bothc\n",
    "    node_data[node_id][\"large_constraint\"] = node_info.largec\n",
    "    node_data[node_id][\"children\"] = node_info.child_list\n",
    "    node_data[node_id][\"potential\"] = len(node_info.potential)\n",
    "    node_data[node_id][\"minset\"] = node_info.minset\n",
    "    if node_info.minset:\n",
    "        minset_count += 1\n",
    "        unique_minset_pc.add(node_info.constraint)\n",
    "    "
   ]
  },
  {
   "cell_type": "code",
   "execution_count": 89,
   "metadata": {},
   "outputs": [
    {
     "name": "stdout",
     "output_type": "stream",
     "text": [
      "1239  /  5650\n",
      "614\n"
     ]
    }
   ],
   "source": [
    "print(minset_count, \" / \", len(tree_data.state_tree))\n",
    "print(len(unique_minset_pc))\n",
    "# 1239  /  5650\n",
    "# 614"
   ]
  },
  {
   "cell_type": "code",
   "execution_count": 90,
   "metadata": {},
   "outputs": [],
   "source": [
    "del node_data[-1]\n",
    "with open(f\"nodesData.json90\", 'w') as f:\n",
    "    json.dump(node_data, f, indent=4)"
   ]
  }
 ],
 "metadata": {
  "kernelspec": {
   "display_name": "Python 3",
   "language": "python",
   "name": "python3"
  },
  "language_info": {
   "codemirror_mode": {
    "name": "ipython",
    "version": 3
   },
   "file_extension": ".py",
   "mimetype": "text/x-python",
   "name": "python",
   "nbconvert_exporter": "python",
   "pygments_lexer": "ipython3",
   "version": "3.7.9"
  },
  "orig_nbformat": 4
 },
 "nbformat": 4,
 "nbformat_minor": 2
}
